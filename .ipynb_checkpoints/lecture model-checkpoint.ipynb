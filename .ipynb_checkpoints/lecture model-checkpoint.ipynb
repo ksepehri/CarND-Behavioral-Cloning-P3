{
 "cells": [
  {
   "cell_type": "code",
   "execution_count": 1,
   "metadata": {},
   "outputs": [
    {
     "name": "stdout",
     "output_type": "stream",
     "text": [
      "Samples: 9748\n",
      "Training Samples: 7798\n",
      "Validation Samples: 1950\n"
     ]
    }
   ],
   "source": [
    "import os\n",
    "import csv\n",
    "from random import shuffle\n",
    "\n",
    "samples = []\n",
    "with open('my_data/driving_log.csv') as csvfile:\n",
    "    reader = csv.reader(csvfile)\n",
    "    for line in reader:\n",
    "        samples.append(line)\n",
    "print('Samples: {}'.format(len(samples)))\n",
    "from sklearn.model_selection import train_test_split\n",
    "train_samples, validation_samples = train_test_split(samples, test_size=0.2)\n",
    "print('Training Samples: {}'.format(len(train_samples)))\n",
    "print('Validation Samples: {}'.format(len(validation_samples)))\n",
    "\n",
    "import cv2\n",
    "import numpy as np\n",
    "import sklearn\n",
    "\n",
    "correction_factor = 0.2\n",
    "\n",
    "def generator(samples, batch_size=32):\n",
    "    num_samples = len(samples)\n",
    "    while 1: # Loop forever so the generator never terminates\n",
    "        shuffle(samples)\n",
    "        for offset in range(0, num_samples, batch_size):\n",
    "            batch_samples = samples[offset:offset+batch_size]\n",
    "            \n",
    "            images = []\n",
    "            angles = []\n",
    "            for batch_sample in batch_samples:\n",
    "                \n",
    "                # use all images from car(left, center, right)\n",
    "                for i in range(3):\n",
    "                    source_path = batch_sample[i]\n",
    "                    filename = source_path.split('/')[-1]\n",
    "                    current_path = 'my_data/IMG/' + filename\n",
    "                    \n",
    "                    image = cv2.imread(current_path)\n",
    "                    images.append(image)\n",
    "                    measurement = float(batch_sample[3])\n",
    "                    \n",
    "                    #apply a steering correction factor for left and right images \n",
    "                    if i == 1:\n",
    "                        measurement += correction_factor\n",
    "                    if i == 2:\n",
    "                        measurement -= correction_factor\n",
    "                    angles.append(measurement)\n",
    "                    \n",
    "                    #flip image and measurement and add to data as well\n",
    "                    image_flipped = np.fliplr(image)\n",
    "                    images.append(image_flipped)\n",
    "                    measurement_flipped = -measurement\n",
    "                    angles.append(measurement_flipped)\n",
    "\n",
    "            X_train = np.array(images)\n",
    "            y_train = np.array(angles)\n",
    "            yield sklearn.utils.shuffle(X_train, y_train)\n"
   ]
  },
  {
   "cell_type": "markdown",
   "metadata": {},
   "source": [
    "prev lines\n",
    "Lines: 9300\n",
    "7440\n",
    "1860"
   ]
  },
  {
   "cell_type": "code",
   "execution_count": 2,
   "metadata": {
    "scrolled": true
   },
   "outputs": [
    {
     "name": "stdout",
     "output_type": "stream",
     "text": [
      "<generator object generator at 0x7f57780d9fc0>\n"
     ]
    },
    {
     "name": "stderr",
     "output_type": "stream",
     "text": [
      "Using TensorFlow backend.\n"
     ]
    },
    {
     "name": "stdout",
     "output_type": "stream",
     "text": [
      "Epoch 1/3\n",
      "46788/46788 [==============================] - 107s - loss: 0.0599 - val_loss: 0.0480\n",
      "Epoch 2/3\n",
      "46788/46788 [==============================] - 103s - loss: 0.0515 - val_loss: 0.0518\n",
      "Epoch 3/3\n",
      "46788/46788 [==============================] - 102s - loss: 0.0479 - val_loss: 0.0429\n",
      "dict_keys(['loss', 'val_loss'])\n"
     ]
    },
    {
     "data": {
      "image/png": "[encoded data removed]",
      "text/plain": [
       "<matplotlib.figure.Figure at 0x7f570833a978>"
      ]
     },
     "metadata": {},
     "output_type": "display_data"
    }
   ],
   "source": [
    "# compile and train the model using the generator function\n",
    "train_generator = generator(train_samples, batch_size=32)\n",
    "validation_generator = generator(validation_samples, batch_size=32)\n",
    "\n",
    "from keras.models import Sequential\n",
    "from keras.layers import Flatten, Dense, Lambda, Dropout, Activation, Cropping2D\n",
    "from keras.layers.convolutional import Convolution2D\n",
    "from keras.layers.pooling import MaxPooling2D\n",
    "\n",
    "model = Sequential()\n",
    "# Preprocess incoming data, centered around zero with small standard deviation \n",
    "# model.add(Lambda(lambda x: x/127.5 - 1.,\n",
    "#         input_shape=(ch, row, col),\n",
    "#         output_shape=(ch, row, col)))\n",
    "# model.add(Flatten())\n",
    "# model.add(Dense(1))\n",
    "\n",
    "model.add(Lambda(lambda x:(x /255.0) - 0.5, input_shape=(160,320,3)))\n",
    "model.add(Cropping2D(cropping=((50,20),(0,0))))\n",
    "model.add(Convolution2D(24, 5, 5,subsample=(2,2),activation=\"relu\"))\n",
    "model.add(Convolution2D(36, 5, 5,subsample=(2,2),activation=\"relu\"))\n",
    "model.add(Convolution2D(48, 5, 5,subsample=(2,2),activation=\"relu\"))\n",
    "model.add(Convolution2D(64, 3, 3,activation=\"relu\"))\n",
    "model.add(Convolution2D(64, 3, 3,activation=\"relu\"))\n",
    "model.add(MaxPooling2D((1, 1)))\n",
    "model.add(Flatten())\n",
    "model.add(Dropout(.5))\n",
    "model.add(Dense(100))\n",
    "model.add(Dense(50))\n",
    "model.add(Dense(10))\n",
    "model.add(Dense(1))\n",
    "\n",
    "epochs = 1\n",
    "\n",
    "model.compile(loss='mse', optimizer='adam')\n",
    "history_object = model.fit_generator(train_generator, samples_per_epoch= len(train_samples*6), validation_data=validation_generator, nb_val_samples=len(validation_samples), nb_epoch=epochs, verbose=1)\n",
    "\n",
    "import matplotlib.pyplot as plt\n",
    "\n",
    "\n",
    "### print the keys contained in the history object\n",
    "print(history_object.history.keys())\n",
    "\n",
    "### plot the training and validation loss for each epoch\n",
    "plt.plot(history_object.history['loss'])\n",
    "plt.plot(history_object.history['val_loss'])\n",
    "plt.title('model mean squared error loss')\n",
    "plt.ylabel('mean squared error loss')\n",
    "plt.xlabel('epoch')\n",
    "plt.legend(['training set', 'validation set'], loc='upper right')\n",
    "plt.show()"
   ]
  },
  {
   "cell_type": "code",
   "execution_count": 3,
   "metadata": {},
   "outputs": [
    {
     "name": "stdout",
     "output_type": "stream",
     "text": [
      "Model Saved\n"
     ]
    }
   ],
   "source": [
    "model.save('model.h5')\n",
    "print('Model Saved')"
   ]
  }
 ],
 "metadata": {
  "anaconda-cloud": {},
  "kernelspec": {
   "display_name": "Python 3",
   "language": "python",
   "name": "python3"
  },
  "language_info": {
   "codemirror_mode": {
    "name": "ipython",
    "version": 3
   },
   "file_extension": ".py",
   "mimetype": "text/x-python",
   "name": "python",
   "nbconvert_exporter": "python",
   "pygments_lexer": "ipython3",
   "version": "3.5.2"
  },
  "widgets": {
   "state": {},
   "version": "1.1.2"
  }
 },
 "nbformat": 4,
 "nbformat_minor": 1
}
