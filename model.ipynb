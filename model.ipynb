{
 "cells": [
  {
   "cell_type": "markdown",
   "metadata": {},
   "source": [
    "##Behavioral Cloning Model"
   ]
  },
  {
   "cell_type": "code",
   "execution_count": 1,
   "metadata": {
    "collapsed": false
   },
   "outputs": [
    {
     "name": "stdout",
     "output_type": "stream",
     "text": [
      "Number of lines: 7542\n",
      "Number of images: 45252\n",
      "Number of measurements: 45252\n"
     ]
    }
   ],
   "source": [
    "#Load data\n",
    "\n",
    "import csv\n",
    "import cv2\n",
    "import numpy as np\n",
    "# Basic load code copied from lecture video\n",
    "\n",
    "lines = []\n",
    "with open('my_data/driving_log.csv') as csvfile:\n",
    "\treader = csv.reader(csvfile)\n",
    "\tfor line in reader:\n",
    "\t\tlines.append(line)\n",
    "\n",
    "print('Number of lines: {}'.format(len(lines)))\n",
    "\n",
    "images = []\n",
    "measurements = []\n",
    "correction_factor = 0.2\n",
    "for line in lines:\n",
    "\tfor i in range(3):\n",
    "\t\tsource_path = line[i]\n",
    "\t\tfilename = source_path.split('/')[-1]\n",
    "\t\tcurrent_path = 'my_data/IMG/' + filename\n",
    "\t\t# print(current_path)\n",
    "\t\timage = cv2.imread(current_path)\n",
    "\t\timages.append(image)\n",
    "\t\tmeasurement = float(line[3])\n",
    "\t\tif i == 1:\n",
    "\t\t\tmeasurement += correction_factor\n",
    "\t\tif i == 2:\n",
    "\t\t\tmeasurement -= correction_factor\n",
    "\t\tmeasurements.append(measurement)\n",
    "\t\t#flip image and measurement and add to data as well\n",
    "\t\timage_flipped = np.fliplr(image)\n",
    "\t\timages.append(image_flipped)\n",
    "\t\tmeasurement_flipped = -measurement\n",
    "\t\tmeasurements.append(measurement_flipped)\n",
    "\n",
    "print('Number of images: {}'.format(len(images)))\n",
    "print('Number of measurements: {}'.format(len(measurements)))\n"
   ]
  },
  {
   "cell_type": "code",
   "execution_count": null,
   "metadata": {
    "collapsed": true
   },
   "outputs": [],
   "source": [
    "X_train = np.array(images)\n",
    "y_train = np.array(measurements)\n",
    "\n",
    "from keras.models import Sequential\n",
    "from keras.layers import Flatten, Dense, Lambda, Dropout, Activation, Cropping2D\n",
    "from keras.layers.convolutional import Convolution2D\n",
    "from keras.layers.pooling import MaxPooling2D\n",
    "\n",
    "model = Sequential()\n",
    "model.add(Lambda(lambda x:(x /255.0) - 0.5, input_shape=(160,320,3)))\n",
    "model.add(Cropping2D(cropping=((70,25),(0,0))))\n",
    "model.add(Convolution2D(24, 5, 5,subsample=(2,2),activation=\"relu\"))\n",
    "model.add(Convolution2D(36, 5, 5,subsample=(2,2),activation=\"relu\"))\n",
    "model.add(Convolution2D(48, 5, 5,subsample=(2,2),activation=\"relu\"))\n",
    "model.add(Convolution2D(64, 3, 3,activation=\"relu\"))\n",
    "model.add(Convolution2D(64, 3, 3,activation=\"relu\"))\n",
    "model.add(MaxPooling2D((1, 1)))\n",
    "model.add(Dropout(.5))\n",
    "model.add(Flatten())\n",
    "model.add(Dense(100))\n",
    "model.add(Dense(50))\n",
    "model.add(Dense(10))\n",
    "model.add(Dense(1))\n",
    "\n",
    "model.compile(loss='mse', optimizer='adam')\n",
    "model.fit(X_train, y_train, validation_split=0.2, shuffle=True, nb_epoch=1)\n",
    "\n",
    "\n",
    "\n",
    "model.save('model.h5')\n",
    "\n",
    "import matplotlib.pyplot as plt\n",
    "\n",
    "history_object = model.fit_generator(train_generator, samples_per_epoch =\n",
    "    len(train_samples), validation_data = \n",
    "    validation_generator,\n",
    "    nb_val_samples = len(validation_samples), \n",
    "    nb_epoch=5, verbose=1)\n",
    "\n",
    "### print the keys contained in the history object\n",
    "print(history_object.history.keys())\n",
    "\n",
    "### plot the training and validation loss for each epoch\n",
    "plt.plot(history_object.history['loss'])\n",
    "plt.plot(history_object.history['val_loss'])\n",
    "plt.title('model mean squared error loss')\n",
    "plt.ylabel('mean squared error loss')\n",
    "plt.xlabel('epoch')\n",
    "plt.legend(['training set', 'validation set'], loc='upper right')\n",
    "plt.show()"
   ]
  }
 ],
 "metadata": {
  "anaconda-cloud": {},
  "kernelspec": {
   "display_name": "Python [conda env:carnd-term1]",
   "language": "python",
   "name": "conda-env-carnd-term1-py"
  },
  "language_info": {
   "codemirror_mode": {
    "name": "ipython",
    "version": 3
   },
   "file_extension": ".py",
   "mimetype": "text/x-python",
   "name": "python",
   "nbconvert_exporter": "python",
   "pygments_lexer": "ipython3",
   "version": "3.5.2"
  }
 },
 "nbformat": 4,
 "nbformat_minor": 1
}
